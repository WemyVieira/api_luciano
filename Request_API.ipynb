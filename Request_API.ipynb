{
 "cells": [
  {
   "cell_type": "markdown",
   "id": "c56ebab4",
   "metadata": {},
   "source": [
    "## Import Bibliotecas"
   ]
  },
  {
   "cell_type": "code",
   "execution_count": 5,
   "id": "d694bb4a",
   "metadata": {},
   "outputs": [],
   "source": [
    "import numpy as nump\n",
    "import pandas as pd\n",
    "import joblib\n",
    "import os\n",
    "from flask import Flask, request, render_template, make_response\n",
    "import requests"
   ]
  },
  {
   "cell_type": "markdown",
   "id": "a614e3af",
   "metadata": {},
   "source": [
    "## Input"
   ]
  },
  {
   "cell_type": "code",
   "execution_count": 38,
   "id": "4c7132dd",
   "metadata": {},
   "outputs": [],
   "source": [
    "dic_input = {\n",
    "    'Login' : 'lucianopedroso15@gmail.com' ,\n",
    "    'Password' : 'Confianca' ,\n",
    "    'Renda' : 30000 ,\n",
    "    'Genero' : 0 ,\n",
    "    'Idade' : 31 ,\n",
    "    'EstadoCivil_Casado' : 0 ,\n",
    "    'EstadoCivil_Outros' : 0 ,\n",
    "    'EstadoCivil_Solteiro' : 1\n",
    "}"
   ]
  },
  {
   "cell_type": "markdown",
   "id": "68609929",
   "metadata": {},
   "source": [
    "### API"
   ]
  },
  {
   "cell_type": "code",
   "execution_count": 39,
   "id": "d8de2d1c",
   "metadata": {},
   "outputs": [],
   "source": [
    "# Configurando portas de entreda da API\n",
    "url = 'http://127.0.0.1:5000/predict'\n",
    "headers = {'Content-type':'application/json'}\n",
    "\n",
    "r = requests.post(url=url, json =dic_input , headers=headers)"
   ]
  },
  {
   "cell_type": "markdown",
   "id": "97867d2e",
   "metadata": {},
   "source": [
    "## Return "
   ]
  },
  {
   "cell_type": "code",
   "execution_count": 40,
   "id": "26ef8de6",
   "metadata": {},
   "outputs": [
    {
     "data": {
      "text/plain": [
       "['Erro Authentication']"
      ]
     },
     "execution_count": 40,
     "metadata": {},
     "output_type": "execute_result"
    }
   ],
   "source": [
    "# Resposta - target\n",
    "r.json()"
   ]
  },
  {
   "cell_type": "code",
   "execution_count": null,
   "id": "685d7fe9",
   "metadata": {},
   "outputs": [],
   "source": []
  }
 ],
 "metadata": {
  "kernelspec": {
   "display_name": "Python 3 (ipykernel)",
   "language": "python",
   "name": "python3"
  },
  "language_info": {
   "codemirror_mode": {
    "name": "ipython",
    "version": 3
   },
   "file_extension": ".py",
   "mimetype": "text/x-python",
   "name": "python",
   "nbconvert_exporter": "python",
   "pygments_lexer": "ipython3",
   "version": "3.9.13"
  }
 },
 "nbformat": 4,
 "nbformat_minor": 5
}
